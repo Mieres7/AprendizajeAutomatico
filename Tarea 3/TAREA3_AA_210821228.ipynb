{
 "cells": [
  {
   "cell_type": "markdown",
   "id": "7cb745b1",
   "metadata": {},
   "source": [
    "## Tarea 3 - Aprendizaje Automático\n",
    "Vicente Mieres"
   ]
  },
  {
   "cell_type": "code",
   "execution_count": 1,
   "id": "4a5b74ab",
   "metadata": {},
   "outputs": [],
   "source": [
    "# imports\n",
    "import os\n",
    "import pandas as pd\n",
    "from sklearn.preprocessing import LabelEncoder\n",
    "from PIL import Image\n",
    "import numpy as np"
   ]
  },
  {
   "cell_type": "markdown",
   "id": "ab9891de",
   "metadata": {},
   "source": [
    "Parte 1 - Carga y procesamiento de datos"
   ]
  },
  {
   "cell_type": "code",
   "execution_count": null,
   "id": "bea804cd",
   "metadata": {},
   "outputs": [],
   "source": [
    "def load_images_and_labels(file_path):\n",
    "\n",
    "    # Ruta al archivo de texto que contiene las imágenes y las etiquetas\n",
    "    list_of_images_path = os.path.join(file_path, 'list_of_images')\n",
    "\n",
    "    # Lista para almacenar las imágenes y sus etiquetas\n",
    "    images = []\n",
    "    labels = []\n",
    "\n",
    "    # Leer el archivo list_of_images\n",
    "    with open(list_of_images_path, 'r') as file:\n",
    "        for line in file.readlines():\n",
    "            img_name, label = line.strip().split()  # Separar el nombre de la imagen y la etiqueta\n",
    "            img_path = os.path.join(file_path, 'images', img_name)  # Ruta completa de la imagen\n",
    "            \n",
    "            # Cargar la imagen\n",
    "            image = Image.open(img_path).convert('RGB')  # Convertir la imagen a RGB\n",
    "            image = image.resize((224, 224))  # Redimensionar a 224x224 (tamaño estándar)\n",
    "            image_array = np.array(image) / 255.0  # Normalizar la imagen entre 0 y 1\n",
    "            \n",
    "            # Añadir la imagen y su etiqueta a las listas\n",
    "            images.append(image_array)\n",
    "            labels.append(label)\n",
    "\n",
    "    # Convertir las listas a arrays de numpy\n",
    "    images = np.array(images)\n",
    "    labels = np.array(labels)\n",
    "\n",
    "    return images, labels\n"
   ]
  },
  {
   "cell_type": "code",
   "execution_count": null,
   "id": "2e135813",
   "metadata": {},
   "outputs": [
    {
     "data": {
      "text/html": [
       "<div>\n",
       "<style scoped>\n",
       "    .dataframe tbody tr th:only-of-type {\n",
       "        vertical-align: middle;\n",
       "    }\n",
       "\n",
       "    .dataframe tbody tr th {\n",
       "        vertical-align: top;\n",
       "    }\n",
       "\n",
       "    .dataframe thead th {\n",
       "        text-align: right;\n",
       "    }\n",
       "</style>\n",
       "<table border=\"1\" class=\"dataframe\">\n",
       "  <thead>\n",
       "    <tr style=\"text-align: right;\">\n",
       "      <th></th>\n",
       "      <th>image_name</th>\n",
       "      <th>label</th>\n",
       "    </tr>\n",
       "  </thead>\n",
       "  <tbody>\n",
       "    <tr>\n",
       "      <th>0</th>\n",
       "      <td>2008_000002.jpg\\ttvmonitor</td>\n",
       "      <td>NaN</td>\n",
       "    </tr>\n",
       "    <tr>\n",
       "      <th>1</th>\n",
       "      <td>2008_000003.jpg\\ttrain</td>\n",
       "      <td>NaN</td>\n",
       "    </tr>\n",
       "    <tr>\n",
       "      <th>2</th>\n",
       "      <td>2008_000007.jpg\\tboat</td>\n",
       "      <td>NaN</td>\n",
       "    </tr>\n",
       "    <tr>\n",
       "      <th>3</th>\n",
       "      <td>2008_000009.jpg\\tcow</td>\n",
       "      <td>NaN</td>\n",
       "    </tr>\n",
       "    <tr>\n",
       "      <th>4</th>\n",
       "      <td>2008_000016.jpg\\ttvmonitor</td>\n",
       "      <td>NaN</td>\n",
       "    </tr>\n",
       "    <tr>\n",
       "      <th>...</th>\n",
       "      <td>...</td>\n",
       "      <td>...</td>\n",
       "    </tr>\n",
       "    <tr>\n",
       "      <th>5818</th>\n",
       "      <td>2011_003261.jpg\\tbicycle</td>\n",
       "      <td>NaN</td>\n",
       "    </tr>\n",
       "    <tr>\n",
       "      <th>5819</th>\n",
       "      <td>2011_003262.jpg\\tbottle</td>\n",
       "      <td>NaN</td>\n",
       "    </tr>\n",
       "    <tr>\n",
       "      <th>5820</th>\n",
       "      <td>2011_003269.jpg\\tcar</td>\n",
       "      <td>NaN</td>\n",
       "    </tr>\n",
       "    <tr>\n",
       "      <th>5821</th>\n",
       "      <td>2011_003271.jpg\\tbottle</td>\n",
       "      <td>NaN</td>\n",
       "    </tr>\n",
       "    <tr>\n",
       "      <th>5822</th>\n",
       "      <td>2011_003275.jpg\\taeroplane</td>\n",
       "      <td>NaN</td>\n",
       "    </tr>\n",
       "  </tbody>\n",
       "</table>\n",
       "<p>5823 rows × 2 columns</p>\n",
       "</div>"
      ],
      "text/plain": [
       "                      image_name  label\n",
       "0     2008_000002.jpg\\ttvmonitor    NaN\n",
       "1         2008_000003.jpg\\ttrain    NaN\n",
       "2          2008_000007.jpg\\tboat    NaN\n",
       "3           2008_000009.jpg\\tcow    NaN\n",
       "4     2008_000016.jpg\\ttvmonitor    NaN\n",
       "...                          ...    ...\n",
       "5818    2011_003261.jpg\\tbicycle    NaN\n",
       "5819     2011_003262.jpg\\tbottle    NaN\n",
       "5820        2011_003269.jpg\\tcar    NaN\n",
       "5821     2011_003271.jpg\\tbottle    NaN\n",
       "5822  2011_003275.jpg\\taeroplane    NaN\n",
       "\n",
       "[5823 rows x 2 columns]"
      ]
     },
     "execution_count": 15,
     "metadata": {},
     "output_type": "execute_result"
    }
   ],
   "source": [
    "dataset_path = 'C:/Users/vicen/proyects/AprendizajeAutomatico/Tarea 3/VOC_val/'\n",
    "images_path = 'C:/Users/vicen/proyects/AprendizajeAutomatico/Tarea 3/VOC_val/images'\n",
    "df = load_images_and_labels(os.path.join(dataset_path, 'list_of_images.txt'))\n",
    "images = [load_and_preprocess_image(os.path.join(images_path, img)) for img in df['image_name']]\n",
    "df"
   ]
  }
 ],
 "metadata": {
  "kernelspec": {
   "display_name": "Python 3",
   "language": "python",
   "name": "python3"
  },
  "language_info": {
   "codemirror_mode": {
    "name": "ipython",
    "version": 3
   },
   "file_extension": ".py",
   "mimetype": "text/x-python",
   "name": "python",
   "nbconvert_exporter": "python",
   "pygments_lexer": "ipython3",
   "version": "3.10.0"
  }
 },
 "nbformat": 4,
 "nbformat_minor": 5
}
