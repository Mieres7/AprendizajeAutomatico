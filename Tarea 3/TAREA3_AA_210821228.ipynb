{
 "cells": [
  {
   "cell_type": "markdown",
   "id": "7cb745b1",
   "metadata": {},
   "source": [
    "## Tarea 3 - Aprendizaje Automático\n",
    "Vicente Mieres"
   ]
  },
  {
   "cell_type": "code",
   "execution_count": 1,
   "id": "4a5b74ab",
   "metadata": {},
   "outputs": [],
   "source": [
    "# imports\n",
    "import os\n",
    "import pandas as pd\n",
    "from sklearn.preprocessing import LabelEncoder\n",
    "from PIL import Image\n",
    "import numpy as np"
   ]
  },
  {
   "cell_type": "markdown",
   "id": "ab9891de",
   "metadata": {},
   "source": [
    "Parte 1 - Carga y procesamiento de datos"
   ]
  },
  {
   "cell_type": "code",
   "execution_count": 2,
   "id": "bea804cd",
   "metadata": {},
   "outputs": [],
   "source": [
    "def load_images_and_labels(file_path):\n",
    "\n",
    "    # Ruta al archivo de texto que contiene las imágenes y las etiquetas\n",
    "    list_of_images_path = os.path.join(file_path, 'list_of_images.txt')\n",
    "\n",
    "    # Lista para almacenar las imágenes y sus etiquetas\n",
    "    images = []\n",
    "    labels = []\n",
    "\n",
    "    # Leer el archivo list_of_images\n",
    "    with open(list_of_images_path, 'r') as file:\n",
    "        for line in file.readlines():\n",
    "            img_name, label = line.strip().split()  # Separar el nombre de la imagen y la etiqueta\n",
    "            img_path = os.path.join(file_path, 'images', img_name)  # Ruta completa de la imagen\n",
    "            \n",
    "            # Cargar la imagen\n",
    "            image = Image.open(img_path).convert('RGB')  # Convertir la imagen a RGB\n",
    "            image = image.resize((224, 224))  # Redimensionar a 224x224 (tamaño estándar)\n",
    "            image_array = np.array(image) / 255.0  # Normalizar la imagen entre 0 y 1\n",
    "            \n",
    "            # Añadir la imagen y su etiqueta a las listas\n",
    "            images.append(image_array)\n",
    "            labels.append(label)\n",
    "\n",
    "    # Convertir las listas a arrays de numpy\n",
    "    images = np.array(images)\n",
    "    labels = np.array(labels)\n",
    "\n",
    "    return images, labels\n"
   ]
  },
  {
   "cell_type": "code",
   "execution_count": 3,
   "id": "5c895c8b",
   "metadata": {},
   "outputs": [],
   "source": [
    "voc_path = 'C:/Users/vicen/proyects/AprendizajeAutomatico/Tarea 3/VOC_val/'\n",
    "images_voc, labels_voc  = load_images_and_labels(voc_path)"
   ]
  },
  {
   "cell_type": "code",
   "execution_count": null,
   "id": "bd4376fc",
   "metadata": {},
   "outputs": [],
   "source": [
    "paris_path = 'C:/Users/vicen/proyects/AprendizajeAutomatico/Tarea 3/Paris_val/'\n",
    "images_paris, labels_paris  = load_images_and_labels(paris_path)"
   ]
  },
  {
   "cell_type": "code",
   "execution_count": null,
   "id": "bda38f19",
   "metadata": {},
   "outputs": [],
   "source": [
    "simple_path = 'C:/Users/vicen/proyects/AprendizajeAutomatico/Tarea 3/simple1K/'\n",
    "\n",
    "images_simple, labels_simple  = load_images_and_labels(simple_path)"
   ]
  }
 ],
 "metadata": {
  "kernelspec": {
   "display_name": "Python 3",
   "language": "python",
   "name": "python3"
  },
  "language_info": {
   "codemirror_mode": {
    "name": "ipython",
    "version": 3
   },
   "file_extension": ".py",
   "mimetype": "text/x-python",
   "name": "python",
   "nbconvert_exporter": "python",
   "pygments_lexer": "ipython3",
   "version": "3.10.0"
  }
 },
 "nbformat": 4,
 "nbformat_minor": 5
}
