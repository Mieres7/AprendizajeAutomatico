{
 "cells": [
  {
   "cell_type": "markdown",
   "id": "b45ddd24",
   "metadata": {},
   "source": [
    "## Tarea 2 - Aprendizaje Automático\n",
    "Vicente Mieres"
   ]
  },
  {
   "cell_type": "code",
   "execution_count": 2,
   "id": "157fbd81",
   "metadata": {},
   "outputs": [
    {
     "ename": "ImportError",
     "evalue": "Traceback (most recent call last):\n  File \"c:\\Users\\vicen\\AppData\\Local\\Programs\\Python\\Python310\\lib\\site-packages\\tensorflow\\python\\pywrap_tensorflow.py\", line 73, in <module>\n    from tensorflow.python._pywrap_tensorflow_internal import *\nImportError: DLL load failed while importing _pywrap_tensorflow_internal: Error en una rutina de inicialización de biblioteca de vínculos dinámicos (DLL).\n\n\nFailed to load the native TensorFlow runtime.\nSee https://www.tensorflow.org/install/errors for some common causes and solutions.\nIf you need help, create an issue at https://github.com/tensorflow/tensorflow/issues and include the entire stack trace above this error message.",
     "output_type": "error",
     "traceback": [
      "\u001b[1;31m---------------------------------------------------------------------------\u001b[0m",
      "\u001b[1;31mImportError\u001b[0m                               Traceback (most recent call last)",
      "File \u001b[1;32mc:\\Users\\vicen\\AppData\\Local\\Programs\\Python\\Python310\\lib\\site-packages\\tensorflow\\python\\pywrap_tensorflow.py:73\u001b[0m\n\u001b[0;32m     72\u001b[0m \u001b[38;5;28;01mtry\u001b[39;00m:\n\u001b[1;32m---> 73\u001b[0m   \u001b[38;5;28;01mfrom\u001b[39;00m \u001b[38;5;21;01mtensorflow\u001b[39;00m\u001b[38;5;21;01m.\u001b[39;00m\u001b[38;5;21;01mpython\u001b[39;00m\u001b[38;5;21;01m.\u001b[39;00m\u001b[38;5;21;01m_pywrap_tensorflow_internal\u001b[39;00m \u001b[38;5;28;01mimport\u001b[39;00m \u001b[38;5;241m*\u001b[39m\n\u001b[0;32m     74\u001b[0m \u001b[38;5;66;03m# This try catch logic is because there is no bazel equivalent for py_extension.\u001b[39;00m\n\u001b[0;32m     75\u001b[0m \u001b[38;5;66;03m# Externally in opensource we must enable exceptions to load the shared object\u001b[39;00m\n\u001b[0;32m     76\u001b[0m \u001b[38;5;66;03m# by exposing the PyInit symbols with pybind. This error will only be\u001b[39;00m\n\u001b[0;32m     77\u001b[0m \u001b[38;5;66;03m# caught internally or if someone changes the name of the target _pywrap_tensorflow_internal.\u001b[39;00m\n\u001b[0;32m     78\u001b[0m \n\u001b[0;32m     79\u001b[0m \u001b[38;5;66;03m# This logic is used in other internal projects using py_extension.\u001b[39;00m\n",
      "\u001b[1;31mImportError\u001b[0m: DLL load failed while importing _pywrap_tensorflow_internal: Error en una rutina de inicialización de biblioteca de vínculos dinámicos (DLL).",
      "\nDuring handling of the above exception, another exception occurred:\n",
      "\u001b[1;31mImportError\u001b[0m                               Traceback (most recent call last)",
      "Cell \u001b[1;32mIn[2], line 3\u001b[0m\n\u001b[0;32m      1\u001b[0m \u001b[38;5;66;03m# importacion de librerias\u001b[39;00m\n\u001b[1;32m----> 3\u001b[0m \u001b[38;5;28;01mimport\u001b[39;00m \u001b[38;5;21;01mtensorflow\u001b[39;00m \u001b[38;5;28;01mas\u001b[39;00m \u001b[38;5;21;01mtf\u001b[39;00m\n\u001b[0;32m      4\u001b[0m \u001b[38;5;28;01mimport\u001b[39;00m \u001b[38;5;21;01mnumpy\u001b[39;00m \u001b[38;5;28;01mas\u001b[39;00m \u001b[38;5;21;01mnp\u001b[39;00m\n\u001b[0;32m      5\u001b[0m \u001b[38;5;66;03m# from tensorflow.keras.datasets import mnist\u001b[39;00m\n",
      "File \u001b[1;32mc:\\Users\\vicen\\AppData\\Local\\Programs\\Python\\Python310\\lib\\site-packages\\tensorflow\\__init__.py:40\u001b[0m\n\u001b[0;32m     37\u001b[0m _os\u001b[38;5;241m.\u001b[39menviron\u001b[38;5;241m.\u001b[39msetdefault(\u001b[38;5;124m\"\u001b[39m\u001b[38;5;124mENABLE_RUNTIME_UPTIME_TELEMETRY\u001b[39m\u001b[38;5;124m\"\u001b[39m, \u001b[38;5;124m\"\u001b[39m\u001b[38;5;124m1\u001b[39m\u001b[38;5;124m\"\u001b[39m)\n\u001b[0;32m     39\u001b[0m \u001b[38;5;66;03m# Do not remove this line; See https://github.com/tensorflow/tensorflow/issues/42596\u001b[39;00m\n\u001b[1;32m---> 40\u001b[0m \u001b[38;5;28;01mfrom\u001b[39;00m \u001b[38;5;21;01mtensorflow\u001b[39;00m\u001b[38;5;21;01m.\u001b[39;00m\u001b[38;5;21;01mpython\u001b[39;00m \u001b[38;5;28;01mimport\u001b[39;00m pywrap_tensorflow \u001b[38;5;28;01mas\u001b[39;00m _pywrap_tensorflow  \u001b[38;5;66;03m# pylint: disable=unused-import\u001b[39;00m\n\u001b[0;32m     41\u001b[0m \u001b[38;5;28;01mfrom\u001b[39;00m \u001b[38;5;21;01mtensorflow\u001b[39;00m\u001b[38;5;21;01m.\u001b[39;00m\u001b[38;5;21;01mpython\u001b[39;00m\u001b[38;5;21;01m.\u001b[39;00m\u001b[38;5;21;01mtools\u001b[39;00m \u001b[38;5;28;01mimport\u001b[39;00m module_util \u001b[38;5;28;01mas\u001b[39;00m _module_util\n\u001b[0;32m     42\u001b[0m \u001b[38;5;28;01mfrom\u001b[39;00m \u001b[38;5;21;01mtensorflow\u001b[39;00m\u001b[38;5;21;01m.\u001b[39;00m\u001b[38;5;21;01mpython\u001b[39;00m\u001b[38;5;21;01m.\u001b[39;00m\u001b[38;5;21;01mutil\u001b[39;00m\u001b[38;5;21;01m.\u001b[39;00m\u001b[38;5;21;01mlazy_loader\u001b[39;00m \u001b[38;5;28;01mimport\u001b[39;00m KerasLazyLoader \u001b[38;5;28;01mas\u001b[39;00m _KerasLazyLoader\n",
      "File \u001b[1;32mc:\\Users\\vicen\\AppData\\Local\\Programs\\Python\\Python310\\lib\\site-packages\\tensorflow\\python\\pywrap_tensorflow.py:88\u001b[0m\n\u001b[0;32m     86\u001b[0m     sys\u001b[38;5;241m.\u001b[39msetdlopenflags(_default_dlopen_flags)\n\u001b[0;32m     87\u001b[0m \u001b[38;5;28;01mexcept\u001b[39;00m \u001b[38;5;167;01mImportError\u001b[39;00m:\n\u001b[1;32m---> 88\u001b[0m   \u001b[38;5;28;01mraise\u001b[39;00m \u001b[38;5;167;01mImportError\u001b[39;00m(\n\u001b[0;32m     89\u001b[0m       \u001b[38;5;124mf\u001b[39m\u001b[38;5;124m'\u001b[39m\u001b[38;5;132;01m{\u001b[39;00mtraceback\u001b[38;5;241m.\u001b[39mformat_exc()\u001b[38;5;132;01m}\u001b[39;00m\u001b[38;5;124m'\u001b[39m\n\u001b[0;32m     90\u001b[0m       \u001b[38;5;124mf\u001b[39m\u001b[38;5;124m'\u001b[39m\u001b[38;5;130;01m\\n\u001b[39;00m\u001b[38;5;130;01m\\n\u001b[39;00m\u001b[38;5;124mFailed to load the native TensorFlow runtime.\u001b[39m\u001b[38;5;130;01m\\n\u001b[39;00m\u001b[38;5;124m'\u001b[39m\n\u001b[0;32m     91\u001b[0m       \u001b[38;5;124mf\u001b[39m\u001b[38;5;124m'\u001b[39m\u001b[38;5;124mSee https://www.tensorflow.org/install/errors \u001b[39m\u001b[38;5;124m'\u001b[39m\n\u001b[0;32m     92\u001b[0m       \u001b[38;5;124mf\u001b[39m\u001b[38;5;124m'\u001b[39m\u001b[38;5;124mfor some common causes and solutions.\u001b[39m\u001b[38;5;130;01m\\n\u001b[39;00m\u001b[38;5;124m'\u001b[39m\n\u001b[0;32m     93\u001b[0m       \u001b[38;5;124mf\u001b[39m\u001b[38;5;124m'\u001b[39m\u001b[38;5;124mIf you need help, create an issue \u001b[39m\u001b[38;5;124m'\u001b[39m\n\u001b[0;32m     94\u001b[0m       \u001b[38;5;124mf\u001b[39m\u001b[38;5;124m'\u001b[39m\u001b[38;5;124mat https://github.com/tensorflow/tensorflow/issues \u001b[39m\u001b[38;5;124m'\u001b[39m\n\u001b[0;32m     95\u001b[0m       \u001b[38;5;124mf\u001b[39m\u001b[38;5;124m'\u001b[39m\u001b[38;5;124mand include the entire stack trace above this error message.\u001b[39m\u001b[38;5;124m'\u001b[39m)\n\u001b[0;32m     97\u001b[0m \u001b[38;5;66;03m# pylint: enable=wildcard-import,g-import-not-at-top,unused-import,line-too-long\u001b[39;00m\n",
      "\u001b[1;31mImportError\u001b[0m: Traceback (most recent call last):\n  File \"c:\\Users\\vicen\\AppData\\Local\\Programs\\Python\\Python310\\lib\\site-packages\\tensorflow\\python\\pywrap_tensorflow.py\", line 73, in <module>\n    from tensorflow.python._pywrap_tensorflow_internal import *\nImportError: DLL load failed while importing _pywrap_tensorflow_internal: Error en una rutina de inicialización de biblioteca de vínculos dinámicos (DLL).\n\n\nFailed to load the native TensorFlow runtime.\nSee https://www.tensorflow.org/install/errors for some common causes and solutions.\nIf you need help, create an issue at https://github.com/tensorflow/tensorflow/issues and include the entire stack trace above this error message."
     ]
    }
   ],
   "source": [
    "# importacion de librerias\n",
    "\n",
    "import tensorflow as tf\n",
    "import numpy as np\n",
    "# from tensorflow.keras.datasets import mnist\n",
    "from sklearn.metrics import confusion_matrix\n",
    "import matplotlib.pyplot as plt\n",
    "import seaborn as sns\n",
    "from PIL import Image\n",
    "import os\n"
   ]
  },
  {
   "cell_type": "markdown",
   "id": "d8065561",
   "metadata": {},
   "source": [
    "# Parte 1 - Lectura de Imágenes"
   ]
  },
  {
   "cell_type": "code",
   "execution_count": null,
   "id": "77cd6390",
   "metadata": {},
   "outputs": [],
   "source": [
    "def load_image_paths_and_labels(file_path):\n",
    "    \"\"\"Carga las rutas de las imágenes y las etiquetas desde un archivo de texto.\"\"\"\n",
    "    image_paths = []\n",
    "    labels = []\n",
    "    with open(file_path, 'r') as file:\n",
    "        for line in file.readlines():\n",
    "            path, label = line.strip().split('\\t')  \n",
    "            image_paths.append(path)\n",
    "            labels.append(int(label)) \n",
    "    return image_paths, np.array(labels)\n",
    "\n",
    "def load_images(image_paths, folder_route, dataset):\n",
    "    \"\"\"Carga las imágenes y las aplana a vectores.\"\"\"\n",
    "    images = []\n",
    "    if dataset == 'Animals':\n",
    "        route = './QuickDraw-Animals/QuickDraw-Animals'\n",
    "\n",
    "        \n",
    "\n",
    "\n",
    "    for path in image_paths:\n",
    "        with Image.open(folder_route + path) as img:\n",
    "            img_array = np.array(img).reshape(-1)\n",
    "            images.append(img_array)\n",
    "    return np.array(images)"
   ]
  },
  {
   "cell_type": "markdown",
   "id": "5e6ea490",
   "metadata": {},
   "source": [
    "QuickDraw-10"
   ]
  },
  {
   "cell_type": "code",
   "execution_count": 41,
   "id": "eb6f9d3b",
   "metadata": {},
   "outputs": [],
   "source": [
    "# Cargar las rutas de entrenamiento y prueba junto con las etiquetas\n",
    "train_image_paths_10, train_labels_10 = load_image_paths_and_labels(\"./QuickDraw-10-Tarea2/QuickDraw-10/train.txt\")\n",
    "test_image_paths_10, test_labels_10 = load_image_paths_and_labels(\"./QuickDraw-10-Tarea2/QuickDraw-10/test.txt\")\n",
    "\n",
    "# Cargar y procesar las imágenes\n",
    "train_images_10 = load_images(train_image_paths_10, \"QuickDraw-10-Tarea2/QuickDraw-10/\")\n",
    "test_images_10 = load_images(test_image_paths_10, \"QuickDraw-10-Tarea2/QuickDraw-10/\")"
   ]
  },
  {
   "cell_type": "markdown",
   "id": "5bd21e4a",
   "metadata": {},
   "source": [
    "QuickDraw-Animals"
   ]
  },
  {
   "cell_type": "code",
   "execution_count": null,
   "id": "bfb17d4d",
   "metadata": {},
   "outputs": [],
   "source": [
    "def load_images_and_labels(dataset):\n",
    "    \"\"\"\n",
    "    Carga imágenes y etiquetas para train y test del dataset QuickDraw-Animals.\n",
    "    \n",
    "    Retorna: \n",
    "      X_test, y_test, X_train, y_train (numpy arrays)\n",
    "    \"\"\"\n",
    "    if dataset != \"Animals\":\n",
    "        raise ValueError(\"Sólo soporta dataset 'Animals'.\")\n",
    "\n",
    "    base_path = './QuickDraw-Animals/QuickDraw-Animals'\n",
    "    mapping_file = os.path.join(base_path, 'mapping.txt')\n",
    "\n",
    "    # Leer mapping.txt y crear diccionario etiqueta->número\n",
    "    label_map = {}\n",
    "    with open(mapping_file, 'r') as f:\n",
    "        for line in f:\n",
    "            parts = line.strip().split()\n",
    "            if len(parts) == 2:\n",
    "                label = parts[0]\n",
    "                idx = int(parts[1])\n",
    "                label_map[label] = idx\n",
    "\n",
    "    def load_images_from_folder(folder_path):\n",
    "        images = []\n",
    "        labels = []\n",
    "        # Las subcarpetas son las clases\n",
    "        for label_name in sorted(os.listdir(folder_path)):\n",
    "            label_folder = os.path.join(folder_path, label_name)\n",
    "            if os.path.isdir(label_folder) and label_name in label_map:\n",
    "                for img_file in sorted(os.listdir(label_folder)):\n",
    "                    if img_file.lower().endswith(('.png', '.jpg', '.jpeg')):\n",
    "                        img_path = os.path.join(label_folder, img_file)\n",
    "                        with Image.open(img_path) as img:\n",
    "                            img_array = np.array(img).reshape(-1)\n",
    "                            images.append(img_array)\n",
    "                            labels.append(label_map[label_name])\n",
    "        return np.array(images), np.array(labels)\n",
    "\n",
    "    # Cargar test\n",
    "    X_test, y_test = load_images_from_folder('./QuickDraw-Animals/QuickDraw-Animals/test_images/test_images')\n",
    "\n",
    "    # Cargar train\n",
    "    X_train, y_train = load_images_from_folder('./QuickDraw-Animals/QuickDraw-Animals/train_images/train_images')\n",
    "\n",
    "    return X_test, y_test, X_train, y_train\n"
   ]
  },
  {
   "cell_type": "code",
   "execution_count": null,
   "id": "884a457a",
   "metadata": {},
   "outputs": [],
   "source": [
    "test_images_animals, test_labels_animals, train_images_animals, train_labels_animals = load_images_and_labels(\"Animals\")"
   ]
  },
  {
   "cell_type": "markdown",
   "id": "adb93d99",
   "metadata": {},
   "source": [
    "## Parte 2 - Construccion de modelos"
   ]
  },
  {
   "cell_type": "code",
   "execution_count": null,
   "id": "2a914f8b",
   "metadata": {},
   "outputs": [],
   "source": []
  }
 ],
 "metadata": {
  "kernelspec": {
   "display_name": "Python 3",
   "language": "python",
   "name": "python3"
  },
  "language_info": {
   "codemirror_mode": {
    "name": "ipython",
    "version": 3
   },
   "file_extension": ".py",
   "mimetype": "text/x-python",
   "name": "python",
   "nbconvert_exporter": "python",
   "pygments_lexer": "ipython3",
   "version": "3.10.0"
  }
 },
 "nbformat": 4,
 "nbformat_minor": 5
}
