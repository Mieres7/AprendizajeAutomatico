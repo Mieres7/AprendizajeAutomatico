{
 "cells": [
  {
   "cell_type": "markdown",
   "id": "b45ddd24",
   "metadata": {},
   "source": [
    "## Tarea 2 - Aprendizaje Automático\n",
    "Vicente Mieres"
   ]
  },
  {
   "cell_type": "code",
   "execution_count": null,
   "id": "157fbd81",
   "metadata": {},
   "outputs": [],
   "source": [
    "# importacion de librerias\n",
    "\n",
    "import tensorflow as tf\n",
    "import numpy as np\n",
    "from tensorflow.keras.datasets import mnist\n",
    "from sklearn.metrics import confusion_matrix\n",
    "import matplotlib.pyplot as plt\n",
    "import seaborn as sns\n"
   ]
  },
  {
   "cell_type": "markdown",
   "id": "d8065561",
   "metadata": {},
   "source": [
    "# Parte 1 - Lectura de Imágenes"
   ]
  },
  {
   "cell_type": "code",
   "execution_count": null,
   "id": "77cd6390",
   "metadata": {},
   "outputs": [],
   "source": [
    "def load_image_paths_and_labels(file_path):\n",
    "    \"\"\"Carga las rutas de las imágenes y las etiquetas desde un archivo de texto.\"\"\"\n",
    "    image_paths = []\n",
    "    labels = []\n",
    "    with open(file_path, 'r') as file:\n",
    "        for line in file.readlines():\n",
    "            path, label = line.strip().split('\\t')  \n",
    "            image_paths.append(path)\n",
    "            labels.append(int(label)) \n",
    "    return image_paths, np.array(labels)"
   ]
  }
 ],
 "metadata": {
  "language_info": {
   "name": "python"
  }
 },
 "nbformat": 4,
 "nbformat_minor": 5
}
