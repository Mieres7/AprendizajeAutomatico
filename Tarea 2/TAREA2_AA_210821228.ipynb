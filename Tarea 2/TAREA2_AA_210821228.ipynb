{
 "cells": [
  {
   "cell_type": "markdown",
   "id": "b45ddd24",
   "metadata": {},
   "source": [
    "## Tarea 2 - Aprendizaje Automático\n",
    "Vicente Mieres"
   ]
  },
  {
   "cell_type": "code",
   "execution_count": 4,
   "id": "157fbd81",
   "metadata": {},
   "outputs": [],
   "source": [
    "# importacion de librerias\n",
    "\n",
    "import tensorflow as tf\n",
    "import numpy as np\n",
    "# from tensorflow.keras.datasets import mnist\n",
    "from sklearn.metrics import confusion_matrix\n",
    "import matplotlib.pyplot as plt\n",
    "import seaborn as sns\n",
    "from PIL import Image\n",
    "import os\n"
   ]
  },
  {
   "cell_type": "markdown",
   "id": "d8065561",
   "metadata": {},
   "source": [
    "# Parte 1 - Lectura de Imágenes"
   ]
  },
  {
   "cell_type": "code",
   "execution_count": null,
   "id": "77cd6390",
   "metadata": {},
   "outputs": [],
   "source": [
    "def load_image_paths_and_labels(file_path):\n",
    "    \"\"\"Carga las rutas de las imágenes y las etiquetas desde un archivo de texto.\"\"\"\n",
    "    image_paths = []\n",
    "    labels = []\n",
    "    with open(file_path, 'r') as file:\n",
    "        for line in file.readlines():\n",
    "            path, label = line.strip().split('\\t')  \n",
    "            image_paths.append(path)\n",
    "            labels.append(int(label)) \n",
    "    return image_paths, np.array(labels)\n",
    "\n",
    "def load_images(image_paths, folder_route, dataset):\n",
    "    \"\"\"Carga las imágenes y las aplana a vectores.\"\"\"\n",
    "    images = []\n",
    "    if dataset == 'Animals':\n",
    "        route = './QuickDraw-Animals/QuickDraw-Animals'\n",
    "\n",
    "        \n",
    "\n",
    "\n",
    "    for path in image_paths:\n",
    "        with Image.open(folder_route + path) as img:\n",
    "            img_array = np.array(img).reshape(-1)\n",
    "            images.append(img_array)\n",
    "    return np.array(images)"
   ]
  },
  {
   "cell_type": "markdown",
   "id": "5e6ea490",
   "metadata": {},
   "source": [
    "QuickDraw-10"
   ]
  },
  {
   "cell_type": "code",
   "execution_count": 41,
   "id": "eb6f9d3b",
   "metadata": {},
   "outputs": [],
   "source": [
    "# Cargar las rutas de entrenamiento y prueba junto con las etiquetas\n",
    "train_image_paths_10, train_labels_10 = load_image_paths_and_labels(\"./QuickDraw-10-Tarea2/QuickDraw-10/train.txt\")\n",
    "test_image_paths_10, test_labels_10 = load_image_paths_and_labels(\"./QuickDraw-10-Tarea2/QuickDraw-10/test.txt\")\n",
    "\n",
    "# Cargar y procesar las imágenes\n",
    "train_images_10 = load_images(train_image_paths_10, \"QuickDraw-10-Tarea2/QuickDraw-10/\")\n",
    "test_images_10 = load_images(test_image_paths_10, \"QuickDraw-10-Tarea2/QuickDraw-10/\")"
   ]
  },
  {
   "cell_type": "markdown",
   "id": "5bd21e4a",
   "metadata": {},
   "source": [
    "QuickDraw-Animals"
   ]
  },
  {
   "cell_type": "code",
   "execution_count": null,
   "id": "bfb17d4d",
   "metadata": {},
   "outputs": [],
   "source": [
    "def load_images_and_labels(dataset):\n",
    "    \"\"\"\n",
    "    Carga imágenes y etiquetas para train y test del dataset QuickDraw-Animals.\n",
    "    \n",
    "    Retorna: \n",
    "      X_test, y_test, X_train, y_train (numpy arrays)\n",
    "    \"\"\"\n",
    "    if dataset != \"Animals\":\n",
    "        raise ValueError(\"Sólo soporta dataset 'Animals'.\")\n",
    "\n",
    "    base_path = './QuickDraw-Animals/QuickDraw-Animals'\n",
    "    mapping_file = os.path.join(base_path, 'mapping.txt')\n",
    "\n",
    "    # Leer mapping.txt y crear diccionario etiqueta->número\n",
    "    label_map = {}\n",
    "    with open(mapping_file, 'r') as f:\n",
    "        for line in f:\n",
    "            parts = line.strip().split()\n",
    "            if len(parts) == 2:\n",
    "                label = parts[0]\n",
    "                idx = int(parts[1])\n",
    "                label_map[label] = idx\n",
    "\n",
    "    def load_images_from_folder(folder_path):\n",
    "        images = []\n",
    "        labels = []\n",
    "        # Las subcarpetas son las clases\n",
    "        for label_name in sorted(os.listdir(folder_path)):\n",
    "            label_folder = os.path.join(folder_path, label_name)\n",
    "            if os.path.isdir(label_folder) and label_name in label_map:\n",
    "                for img_file in sorted(os.listdir(label_folder)):\n",
    "                    if img_file.lower().endswith(('.png', '.jpg', '.jpeg')):\n",
    "                        img_path = os.path.join(label_folder, img_file)\n",
    "                        with Image.open(img_path) as img:\n",
    "                            img_array = np.array(img).reshape(-1)\n",
    "                            images.append(img_array)\n",
    "                            labels.append(label_map[label_name])\n",
    "        return np.array(images), np.array(labels)\n",
    "\n",
    "    # Cargar test\n",
    "    X_test, y_test = load_images_from_folder('./QuickDraw-Animals/QuickDraw-Animals/test_images/test_images')\n",
    "\n",
    "    # Cargar train\n",
    "    X_train, y_train = load_images_from_folder('./QuickDraw-Animals/QuickDraw-Animals/train_images/train_images')\n",
    "\n",
    "    return X_test, y_test, X_train, y_train\n"
   ]
  },
  {
   "cell_type": "code",
   "execution_count": null,
   "id": "884a457a",
   "metadata": {},
   "outputs": [],
   "source": [
    "test_images_animals, test_labels_animals, train_images_animals, train_labels_animals = load_images_and_labels(\"Animals\")"
   ]
  },
  {
   "cell_type": "markdown",
   "id": "adb93d99",
   "metadata": {},
   "source": [
    "## Parte 2 - Construccion de modelos"
   ]
  },
  {
   "cell_type": "code",
   "execution_count": null,
   "id": "2a914f8b",
   "metadata": {},
   "outputs": [],
   "source": []
  }
 ],
 "metadata": {
  "kernelspec": {
   "display_name": "Python 3",
   "language": "python",
   "name": "python3"
  },
  "language_info": {
   "codemirror_mode": {
    "name": "ipython",
    "version": 3
   },
   "file_extension": ".py",
   "mimetype": "text/x-python",
   "name": "python",
   "nbconvert_exporter": "python",
   "pygments_lexer": "ipython3",
   "version": "3.10.0"
  }
 },
 "nbformat": 4,
 "nbformat_minor": 5
}
