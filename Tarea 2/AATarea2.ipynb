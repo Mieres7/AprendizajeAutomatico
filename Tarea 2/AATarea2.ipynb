{
  "nbformat": 4,
  "nbformat_minor": 0,
  "metadata": {
    "colab": {
      "provenance": []
    },
    "kernelspec": {
      "name": "python3",
      "display_name": "Python 3"
    },
    "language_info": {
      "name": "python"
    }
  },
  "cells": [
    {
      "cell_type": "code",
      "execution_count": null,
      "metadata": {
        "id": "RiZMfduqoari"
      },
      "outputs": [],
      "source": []
    },
    {
      "cell_type": "code",
      "source": [
        "from google.colab import drive\n",
        "import zipfile\n",
        "import os\n",
        "\n",
        "\n",
        "drive.mount('/content/drive')\n",
        "\n",
        "zip_path = '/content/drive/MyDrive/apredizajeautomatico/QuickDraw-Animals.zip'  # Cambia esta ruta\n",
        "zip_path_2 = '/content/drive/MyDrive/apredizajeautomatico/QuickDraw-10-Tarea2.zip'\n",
        "\n",
        "extract_path = '/content/imagenes_descomprimidas'\n",
        "os.makedirs(extract_path, exist_ok=True)\n",
        "\n",
        "with zipfile.ZipFile(zip_path, 'r') as zip_ref:\n",
        "    zip_ref.extractall(extract_path)\n",
        "\n",
        "with zipfile.ZipFile(zip_path_2, 'r') as zip_ref:\n",
        "    zip_ref.extractall(extract_path)\n",
        "\n",
        "print(f\"Archivos extraídos en: {extract_path}\")\n",
        "\n",
        "print(\"Archivos extraídos:\")\n",
        "print(os.listdir(extract_path))"
      ],
      "metadata": {
        "colab": {
          "base_uri": "https://localhost:8080/"
        },
        "id": "aQFvGnrbogmq",
        "outputId": "04b53327-a9e0-4007-eb17-a20879ebef5e"
      },
      "execution_count": 1,
      "outputs": [
        {
          "output_type": "stream",
          "name": "stdout",
          "text": [
            "Drive already mounted at /content/drive; to attempt to forcibly remount, call drive.mount(\"/content/drive\", force_remount=True).\n",
            "Archivos extraídos en: /content/imagenes_descomprimidas\n",
            "Archivos extraídos:\n",
            "['QuickDraw-Animals', 'QuickDraw-10']\n"
          ]
        }
      ]
    },
    {
      "cell_type": "code",
      "source": [
        "# importacion de librerias\n",
        "import tensorflow as tf\n",
        "import numpy as np\n",
        "from tensorflow.keras.datasets import mnist\n",
        "import matplotlib.pyplot as plt\n",
        "import seaborn as sns\n",
        "from PIL import Image\n",
        "import os\n",
        "from sklearn.model_selection import train_test_split\n",
        "from sklearn.metrics import confusion_matrix, accuracy_score, classification_report\n",
        "from tensorflow.keras.utils import to_categorical\n"
      ],
      "metadata": {
        "id": "_bnYsh3WtCDk"
      },
      "execution_count": 4,
      "outputs": []
    },
    {
      "cell_type": "markdown",
      "source": [
        "# Parte 1 - Lectura de Imágenes"
      ],
      "metadata": {
        "id": "8ESQWEpOtIsJ"
      }
    },
    {
      "cell_type": "code",
      "source": [
        "def load_image_paths_and_labels(file_path):\n",
        "    \"\"\"Carga las rutas de las imágenes y las etiquetas desde un archivo de texto.\"\"\"\n",
        "    image_paths = []\n",
        "    labels = []\n",
        "    with open(file_path, 'r') as file:\n",
        "        for line in file.readlines():\n",
        "            path, label = line.strip().split('\\t')\n",
        "            image_paths.append(path)\n",
        "            labels.append(int(label))\n",
        "    return image_paths, np.array(labels)\n",
        "\n",
        "def load_images(image_paths, folder_route):\n",
        "    \"\"\"Carga las imágenes y las aplana a vectores.\"\"\"\n",
        "    images = []\n",
        "    for path in image_paths:\n",
        "        with Image.open(folder_route + path) as img:\n",
        "            img_array = np.array(img).reshape(-1)\n",
        "            images.append(img_array)\n",
        "    return np.array(images)"
      ],
      "metadata": {
        "id": "HycllJm_tKiG"
      },
      "execution_count": 3,
      "outputs": []
    },
    {
      "cell_type": "markdown",
      "source": [
        "QuickDraw-10"
      ],
      "metadata": {
        "id": "13v2Ol-ut_dJ"
      }
    },
    {
      "cell_type": "code",
      "source": [
        "# Cargar las rutas de entrenamiento y prueba junto con las etiquetas\n",
        "train_image_paths_10, train_labels_10 = load_image_paths_and_labels(\"/content/imagenes_descomprimidas/QuickDraw-10/train.txt\")\n",
        "test_image_paths_10, test_labels_10 = load_image_paths_and_labels(\"/content/imagenes_descomprimidas/QuickDraw-10/test.txt\")\n",
        "\n",
        "# Cargar y procesar las imágenes\n",
        "train_images_10 = load_images(train_image_paths_10, \"/content/imagenes_descomprimidas/QuickDraw-10/\")\n",
        "test_images_10 = load_images(test_image_paths_10, \"/content/imagenes_descomprimidas/QuickDraw-10/\")"
      ],
      "metadata": {
        "id": "-dsSiI0ytMYW"
      },
      "execution_count": 4,
      "outputs": []
    },
    {
      "cell_type": "code",
      "source": [
        "# Preparacion datos de validacion\n",
        "train_images_10, val_image_10, train_labels_10, val_labels_10 = train_test_split(\n",
        "    train_images_10, train_labels_10, test_size=0.15, random_state=42, stratify=train_labels_10\n",
        ")"
      ],
      "metadata": {
        "id": "lWI6a-Ddt7Wn"
      },
      "execution_count": 5,
      "outputs": []
    },
    {
      "cell_type": "code",
      "source": [
        "# normalizacion\n",
        "train_images_10 = train_images_10.astype('float32') / 255.0\n",
        "test_images_10 = test_images_10.astype('float32') / 255.0\n",
        "val_image_10 = val_image_10.astype('float32') / 255.0"
      ],
      "metadata": {
        "id": "yY1zYbFDHEbZ"
      },
      "execution_count": 6,
      "outputs": []
    },
    {
      "cell_type": "code",
      "source": [
        "# one hot encoding\n",
        "n_classes=10\n",
        "train_labels_10 = to_categorical(train_labels_10, num_classes=n_classes)\n",
        "test_labels_10 = to_categorical(test_labels_10, num_classes=n_classes)\n",
        "val_labels_10 = to_categorical(val_labels_10, num_classes=n_classes)"
      ],
      "metadata": {
        "id": "kQjCrgw8NJKO"
      },
      "execution_count": 7,
      "outputs": []
    },
    {
      "cell_type": "markdown",
      "source": [
        "QuickDraw-Animals"
      ],
      "metadata": {
        "id": "ALUYnf1iuAMD"
      }
    },
    {
      "cell_type": "code",
      "source": [
        "def load_images_and_labels(dataset):\n",
        "    \"\"\"\n",
        "    Carga imágenes y etiquetas para train y test del dataset QuickDraw-Animals.\n",
        "\n",
        "    Retorna:\n",
        "      X_test, y_test, X_train, y_train (numpy arrays)\n",
        "    \"\"\"\n",
        "    if dataset != \"Animals\":\n",
        "        raise ValueError(\"Sólo soporta dataset 'Animals'.\")\n",
        "\n",
        "    base_path = '/content/imagenes_descomprimidas/QuickDraw-Animals/'\n",
        "    mapping_file = os.path.join(base_path, 'mapping.txt')\n",
        "\n",
        "    # Leer mapping.txt y crear diccionario etiqueta->número\n",
        "    label_map = {}\n",
        "    with open(mapping_file, 'r') as f:\n",
        "        for line in f:\n",
        "            parts = line.strip().split()\n",
        "            if len(parts) == 2:\n",
        "                label = parts[0]\n",
        "                idx = int(parts[1])\n",
        "                label_map[label] = idx\n",
        "\n",
        "    def load_images_from_folder(folder_path):\n",
        "        images = []\n",
        "        labels = []\n",
        "        # Las subcarpetas son las clases\n",
        "        for label_name in sorted(os.listdir(folder_path)):\n",
        "            label_folder = os.path.join(folder_path, label_name)\n",
        "            if os.path.isdir(label_folder) and label_name in label_map:\n",
        "                for img_file in sorted(os.listdir(label_folder)):\n",
        "                    if img_file.lower().endswith(('.png', '.jpg', '.jpeg')):\n",
        "                        img_path = os.path.join(label_folder, img_file)\n",
        "                        with Image.open(img_path) as img:\n",
        "                            img_array = np.array(img).reshape(-1)\n",
        "                            images.append(img_array)\n",
        "                            labels.append(label_map[label_name])\n",
        "        return np.array(images), np.array(labels)\n",
        "\n",
        "    # Cargar test\n",
        "    X_test, y_test = load_images_from_folder('/content/imagenes_descomprimidas/QuickDraw-Animals/test_images/test_images/')\n",
        "\n",
        "    # Cargar train\n",
        "    X_train, y_train = load_images_from_folder('/content/imagenes_descomprimidas/QuickDraw-Animals/train_images/train_images/')\n",
        "\n",
        "    return X_test, y_test, X_train, y_train\n"
      ],
      "metadata": {
        "id": "wznfNYHnuClR"
      },
      "execution_count": 8,
      "outputs": []
    },
    {
      "cell_type": "code",
      "source": [
        "test_images_animals, test_labels_animals, train_images_animals, train_labels_animals = load_images_and_labels(\"Animals\")"
      ],
      "metadata": {
        "id": "rGJkQEGNuLgQ"
      },
      "execution_count": 9,
      "outputs": []
    },
    {
      "cell_type": "code",
      "source": [
        "# Preparacion datos de validacion\n",
        "train_images_animals, val_images_animals, train_labels_animals, val_labels_animals = train_test_split(\n",
        "    train_images_animals, train_labels_animals, test_size=0.15, random_state=42, stratify=train_labels_animals\n",
        ")"
      ],
      "metadata": {
        "id": "I7OuAJoQuXNZ"
      },
      "execution_count": 10,
      "outputs": []
    },
    {
      "cell_type": "code",
      "source": [
        "# normalizacion\n",
        "train_images_animals = train_images_animals.astype('float32') / 255.0\n",
        "test_images_animals = test_images_animals.astype('float32') / 255.0\n",
        "val_images_animals = val_images_animals.astype('float32') / 255.0"
      ],
      "metadata": {
        "id": "_pZQys-EH0SE"
      },
      "execution_count": null,
      "outputs": []
    },
    {
      "cell_type": "code",
      "source": [
        "# one hot encoding\n",
        "n_classes=12\n",
        "train_labels_animals = to_categorical(train_labels_animals, num_classes=n_classes)\n",
        "test_labels_animals = to_categorical(test_labels_animals, num_classes=n_classes)\n",
        "val_labels_animals = to_categorical(val_labels_animals, num_classes=n_classes)"
      ],
      "metadata": {
        "id": "w5LhfPwPH-th"
      },
      "execution_count": null,
      "outputs": []
    },
    {
      "cell_type": "markdown",
      "source": [
        "## Parte 2 - Construcción de modelos\n",
        "\n",
        "Clase MLP"
      ],
      "metadata": {
        "id": "MEtptvDwuZGK"
      }
    },
    {
      "cell_type": "code",
      "source": [
        "class MLP(tf.keras.Model):\n",
        "    # defining components\n",
        "    def __init__(self, layers_size, n_classes, activation='sigmoid'):\n",
        "        super(MLP, self).__init__()\n",
        "        self.layer_list = []\n",
        "        for lsize in layers_size:\n",
        "            self.layer_list.append(tf.keras.layers.Dense(lsize))\n",
        "        self.classifier = tf.keras.layers.Dense(n_classes)\n",
        "        self.activation = activation\n",
        "\n",
        "\n",
        "    # defining architecture\n",
        "    def call(self, inputs):\n",
        "        x = inputs\n",
        "        for mlp_layer in self.layer_list:\n",
        "            x = mlp_layer(x)\n",
        "            if self.activation == 'sigmoid':\n",
        "                x = tf.keras.activations.sigmoid(x)\n",
        "            elif self.activation == 'relu':\n",
        "                x = tf.keras.activations.relu(x)\n",
        "            elif self.activation == 'tanh':\n",
        "                x = tf.keras.activations.tanh(x)\n",
        "            elif self.activation == 'leakyrelu':\n",
        "                x = tf.keras.activations.leakyrelu(x)\n",
        "            else:\n",
        "                raise ValueError(\"Activación no soportada\")\n",
        "        x = self.classifier(x)\n",
        "        return tf.keras.activations.softmax(x)"
      ],
      "metadata": {
        "id": "9-IjfB__ueYv"
      },
      "execution_count": 7,
      "outputs": []
    },
    {
      "cell_type": "markdown",
      "source": [
        "Funciones para entrenar, evaluar y realizar los experimentos"
      ],
      "metadata": {
        "id": "oA1PFhonukLZ"
      }
    },
    {
      "cell_type": "code",
      "source": [
        "def train_model(model, X_train, y_train, X_val, y_val, loss_fn, epochs=10, batch_size=32):\n",
        "\n",
        "    # Entrenamiento\n",
        "    model.compile(\n",
        "        optimizer=tf.keras.optimizers.SGD(),\n",
        "        loss=loss_fn,\n",
        "        metrics=['accuracy']\n",
        "    )\n",
        "\n",
        "    # Detiene el proceso tras 5 epocas sin encontrar una mejora. Evalúa la pérdida en el\n",
        "    # conjunto de validación.\n",
        "    early_stopping = EarlyStopping(\n",
        "      monitor='val_loss',\n",
        "      patience=5,\n",
        "      restore_best_weights=True,\n",
        "      verbose=1\n",
        "    )\n",
        "\n",
        "    final_model = model.fit(\n",
        "        X_train, y_train,\n",
        "        validation_data=(X_val, y_val),\n",
        "        epochs=epochs,\n",
        "        batch_size=batch_size,\n",
        "        # verbose=0\n",
        "    )\n",
        "    return final_model\n",
        "\n",
        "def evaluate_model(model, X_test, y_test, class_names):\n",
        "    y_pred_probs = model(X_test, training=False).numpy()\n",
        "    y_pred = np.argmax(y_pred_probs, axis=1)\n",
        "\n",
        "    # Si y_test es one-hot, convierte a etiquetas enteras\n",
        "    if len(y_test.shape) > 1 and y_test.shape[1] > 1:\n",
        "        y_test_int = np.argmax(y_test, axis=1)\n",
        "    else:\n",
        "        y_test_int = y_test\n",
        "\n",
        "    acc_total = accuracy_score(y_test_int, y_pred)\n",
        "\n",
        "    acc_per_class = {}\n",
        "    for cls in np.unique(y_test_int):\n",
        "        idx = y_test_int == cls\n",
        "        acc = accuracy_score(y_test_int[idx], y_pred[idx])\n",
        "        acc_per_class[class_names[cls]] = acc\n",
        "\n",
        "    cm = confusion_matrix(y_test_int, y_pred)\n",
        "\n",
        "    return acc_total, acc_per_class, cm\n",
        "\n",
        "\n",
        "def experiment(X_train, y_train, X_val, y_val, X_test, y_test, layers_size, n_classes, activation, loss_fn, class_names, epochs=10, batch_size=None, n_experiments=5):\n",
        "    acc_totals = []\n",
        "    acc_classes_list = []\n",
        "    cm_list = []\n",
        "\n",
        "    for i in range(n_experiments):\n",
        "        print(f\"\\nEntrenamiento número {i+1}\")\n",
        "        # Crear modelo nuevo para reinicializar pesos\n",
        "        model = MLP(layers_size, n_classes, activation)\n",
        "        model.build(input_shape=(None, X_train.shape[1]))\n",
        "\n",
        "        # Entrenar\n",
        "        train_model(model, X_train, y_train, X_val, y_val, loss_fn, epochs, batch_size)\n",
        "\n",
        "        # Evaluar\n",
        "        acc_total, acc_per_class, cm = evaluate_model(model, X_test, y_test, class_names)\n",
        "        acc_totals.append(acc_total)\n",
        "        acc_classes_list.append(acc_per_class)\n",
        "        cm_list.append(cm)\n",
        "\n",
        "    # Calcular mediana del accuracy total\n",
        "    median_acc_total = np.median(acc_totals)\n",
        "    print(f\"\\nMediana de accuracy total tras 5 entrenamientos: {median_acc_total:.4f}\")\n",
        "\n",
        "    return median_acc_total, acc_classes_list, cm_list"
      ],
      "metadata": {
        "id": "Cr-CDYlmuk-6"
      },
      "execution_count": 8,
      "outputs": []
    },
    {
      "cell_type": "markdown",
      "source": [
        "Experimentos para QuickDraw-10"
      ],
      "metadata": {
        "id": "FAOUMjhDBEN3"
      }
    },
    {
      "cell_type": "code",
      "source": [
        "clases = ['bandage', 'blackberry', 'castle', 'flashlight', 'lion', 'remote-control', 'sink', 'spreadsheet', 'teapot', 'trombone']"
      ],
      "metadata": {
        "id": "8ZQEHnrSBJMV"
      },
      "execution_count": 14,
      "outputs": []
    },
    {
      "cell_type": "code",
      "source": [
        "# Modelo 1 - QuickDraw-10\n",
        "# Detalles:\n",
        "# Activacion: sigmoid\n",
        "# Perdida: CrossEntropy\n",
        "# Capas: 3\n",
        "# Epocas: 100\n",
        "# Batch size: 100\n",
        "\n",
        "acc_total, acc_clase, cm = experiment(\n",
        "        train_images_10,\n",
        "        train_labels_10,\n",
        "        val_image_10,\n",
        "        val_labels_10,\n",
        "        test_images_10,\n",
        "        test_labels_10,\n",
        "        layers_size=[512, 256,128],\n",
        "        n_classes=10,\n",
        "        activation='sigmoid',\n",
        "        loss_fn='categorical_crossentropy',\n",
        "        class_names=clases,\n",
        "        epochs=100,\n",
        "        batch_size=100,\n",
        "        n_experiments=5\n",
        "        )"
      ],
      "metadata": {
        "id": "MJNUkmE4unJW"
      },
      "execution_count": null,
      "outputs": []
    },
    {
      "cell_type": "code",
      "source": [
        "acc_clase\n",
        "acc_total\n",
        "cm[0]"
      ],
      "metadata": {
        "id": "cwUV5IR5EpvA"
      },
      "execution_count": null,
      "outputs": []
    },
    {
      "cell_type": "code",
      "source": [
        "# Modelo 2 - QuickDraw-10\n",
        "# Detalles:\n",
        "# Activacion: sigmoid\n",
        "# Perdida: CrossEntropy\n",
        "# Capas: 3\n",
        "# Epocas: 20\n",
        "# Batch size: 1000\n",
        "\n",
        "acc_total, acc_clase, cm = experiment(\n",
        "        train_images_10,\n",
        "        train_labels_10,\n",
        "        val_image_10,\n",
        "        val_labels_10,\n",
        "        test_images_10,\n",
        "        test_labels_10,\n",
        "        layers_size=[512, 256, 128],\n",
        "        n_classes=10,\n",
        "        activation='sigmoid',\n",
        "        loss_fn='categorical_crossentropy',\n",
        "        class_names=clases,\n",
        "        epochs=20,\n",
        "        batch_size=1000,\n",
        "        n_experiments=5\n",
        "        )"
      ],
      "metadata": {
        "colab": {
          "base_uri": "https://localhost:8080/",
          "height": 216
        },
        "collapsed": true,
        "id": "kX7q-_lZDDCO",
        "outputId": "6244d292-402c-491a-a610-5e1551f38bc5"
      },
      "execution_count": 1,
      "outputs": [
        {
          "output_type": "error",
          "ename": "NameError",
          "evalue": "name 'experiment' is not defined",
          "traceback": [
            "\u001b[0;31m---------------------------------------------------------------------------\u001b[0m",
            "\u001b[0;31mNameError\u001b[0m                                 Traceback (most recent call last)",
            "\u001b[0;32m<ipython-input-1-0a70c16d22ef>\u001b[0m in \u001b[0;36m<cell line: 0>\u001b[0;34m()\u001b[0m\n\u001b[1;32m      7\u001b[0m \u001b[0;31m# Batch size: 1000\u001b[0m\u001b[0;34m\u001b[0m\u001b[0;34m\u001b[0m\u001b[0m\n\u001b[1;32m      8\u001b[0m \u001b[0;34m\u001b[0m\u001b[0m\n\u001b[0;32m----> 9\u001b[0;31m acc_total, acc_clase, cm = experiment(\n\u001b[0m\u001b[1;32m     10\u001b[0m         \u001b[0mtrain_images_10\u001b[0m\u001b[0;34m,\u001b[0m\u001b[0;34m\u001b[0m\u001b[0;34m\u001b[0m\u001b[0m\n\u001b[1;32m     11\u001b[0m         \u001b[0mtrain_labels_10\u001b[0m\u001b[0;34m,\u001b[0m\u001b[0;34m\u001b[0m\u001b[0;34m\u001b[0m\u001b[0m\n",
            "\u001b[0;31mNameError\u001b[0m: name 'experiment' is not defined"
          ]
        }
      ]
    },
    {
      "cell_type": "code",
      "source": [
        "# Modelo 3 - QuickDraw-10\n",
        "# Detalles:\n",
        "# Activacion: relu\n",
        "# Perdida: Categorical Hinge\n",
        "# Capas: 4\n",
        "# Epocas: 60\n",
        "# Batch size: 550\n",
        "\n",
        "acc_total, acc_clase, cm = experiment(\n",
        "        train_images_10,\n",
        "        train_labels_10,\n",
        "        val_image_10,\n",
        "        val_labels_10,\n",
        "        test_images_10,\n",
        "        test_labels_10,\n",
        "        layers_size=[512, 256, 128, 64],\n",
        "        n_classes=10,\n",
        "        activation='relu',\n",
        "        loss_fn='categorical_hinge',\n",
        "        class_names=clases,\n",
        "        epochs=60,\n",
        "        batch_size=550,\n",
        "        n_experiments=5\n",
        "        )"
      ],
      "metadata": {
        "id": "tRMvGYDiEGz2"
      },
      "execution_count": null,
      "outputs": []
    },
    {
      "cell_type": "markdown",
      "source": [
        "Experimentos para QuickDraw-Animals"
      ],
      "metadata": {
        "id": "yFUn89PMI5Kh"
      }
    },
    {
      "cell_type": "code",
      "source": [
        "clases = ['sheep', 'bear', 'bee', 'cat', 'camel', 'cow', 'crab', 'crocodile', 'duck', 'elephant', 'dog', 'giraffe']"
      ],
      "metadata": {
        "id": "nVX-q6E4OYc3"
      },
      "execution_count": 9,
      "outputs": []
    },
    {
      "cell_type": "code",
      "source": [
        "# Modelo 1 - QuickDraw-Animals\n",
        "# Detalles:\n",
        "# Activacion: tanh\n",
        "# Perdida: categorical_hinge\n",
        "# Capas: 2\n",
        "# Epocas: 60\n",
        "# Batch size: 550\n",
        "\n",
        "acc_total, acc_clase, cm = experiment(\n",
        "        train_images_animals,\n",
        "        train_labels_animals,\n",
        "        val_images_animals,\n",
        "        val_labels_animals,\n",
        "        test_images_animals,\n",
        "        test_labels_animals,\n",
        "        layers_size=[512, 256],\n",
        "        n_classes=12,\n",
        "        activation='tanh',\n",
        "        loss_fn='categorical_hinge',\n",
        "        class_names=clases,\n",
        "        epochs=10,\n",
        "        batch_size=1000,\n",
        "        n_experiments=5\n",
        "        )"
      ],
      "metadata": {
        "id": "0w2q9DXBI9WQ"
      },
      "execution_count": null,
      "outputs": []
    },
    {
      "cell_type": "code",
      "source": [
        "# Modelo 2 - QuickDraw-Animals\n",
        "# Detalles:\n",
        "# Activacion: tanh\n",
        "# Perdida: categorical_crossentropy\n",
        "# Capas: 2\n",
        "# Epocas: 10\n",
        "# Batch size: 1000\n",
        "\n",
        "acc_total, acc_clase, cm = experiment(\n",
        "        train_images_animals,\n",
        "        train_labels_animals,\n",
        "        val_images_animals,\n",
        "        val_labels_animals,\n",
        "        test_images_animals,\n",
        "        test_labels_animals,\n",
        "        layers_size=[512, 256, 128],\n",
        "        n_classes=12,\n",
        "        activation='tanh',\n",
        "        loss_fn='categorical_crossentropy',\n",
        "        class_names=clases,\n",
        "        epochs=100,\n",
        "        batch_size=150,\n",
        "        n_experiments=5\n",
        "        )"
      ],
      "metadata": {
        "id": "fekRLfs0Jj4L"
      },
      "execution_count": null,
      "outputs": []
    },
    {
      "cell_type": "code",
      "source": [
        "# Modelo 3 - QuickDraw-Animals\n",
        "# Detalles:\n",
        "# Activacion: sigmoid\n",
        "# Perdida: kullback_leibler_divergence\n",
        "# Capas: 2\n",
        "# Epocas: 10\n",
        "# Batch size: 1000\n",
        "\n",
        "acc_total, acc_clase, cm = experiment(\n",
        "        train_images_animals,\n",
        "        train_labels_animals,\n",
        "        val_images_animals,\n",
        "        val_labels_animals,\n",
        "        test_images_animals,\n",
        "        test_labels_animals,\n",
        "        layers_size=[512, 256, 128, 64],\n",
        "        n_classes=12,\n",
        "        activation='sigmoid',\n",
        "        loss_fn='kullback_leibler_divergence',\n",
        "        class_names=clases,\n",
        "        epochs=10,\n",
        "        batch_size=20,\n",
        "        n_experiments=5\n",
        "        )"
      ],
      "metadata": {
        "id": "lE_OGxeDNtno"
      },
      "execution_count": null,
      "outputs": []
    }
  ]
}